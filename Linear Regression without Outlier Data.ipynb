{
 "cells": [
  {
   "cell_type": "markdown",
   "id": "28fd861b",
   "metadata": {},
   "source": [
    "# Import Libraries"
   ]
  },
  {
   "cell_type": "code",
   "execution_count": null,
   "id": "38ab0d56",
   "metadata": {},
   "outputs": [],
   "source": [
    "import pandas as pd\n",
    "import "
   ]
  },
  {
   "cell_type": "markdown",
   "id": "f4390040",
   "metadata": {},
   "source": [
    "# Import Data"
   ]
  },
  {
   "cell_type": "markdown",
   "id": "6c7d76ab",
   "metadata": {},
   "source": [
    "Raw: https://www.kaggle.com/datasets/uciml/student-alcohol-consumption?resource=download "
   ]
  },
  {
   "cell_type": "markdown",
   "id": "776dae3c",
   "metadata": {},
   "source": [
    "WithOut Outliers: https://sooners-my.sharepoint.com/:x:/g/personal/brooke_tumelson1_ou_edu/EfO8j4rDSi9DipKtv3d_GkUBUaIqX8_btCZqDnOb9msEhw?e=w5BODP"
   ]
  },
  {
   "cell_type": "code",
   "execution_count": 4,
   "id": "15f56674",
   "metadata": {},
   "outputs": [],
   "source": [
    "alcoholanalysis = pd.read_csv(\"Happiness.Alcohol.Consumption.Without.Outliers.csv\")"
   ]
  },
  {
   "cell_type": "markdown",
   "id": "7bef1d6d",
   "metadata": {},
   "source": [
    "# View Data Set"
   ]
  },
  {
   "cell_type": "code",
   "execution_count": 10,
   "id": "d8669d38",
   "metadata": {
    "scrolled": true
   },
   "outputs": [
    {
     "data": {
      "text/html": [
       "<div>\n",
       "<style scoped>\n",
       "    .dataframe tbody tr th:only-of-type {\n",
       "        vertical-align: middle;\n",
       "    }\n",
       "\n",
       "    .dataframe tbody tr th {\n",
       "        vertical-align: top;\n",
       "    }\n",
       "\n",
       "    .dataframe thead th {\n",
       "        text-align: right;\n",
       "    }\n",
       "</style>\n",
       "<table border=\"1\" class=\"dataframe\">\n",
       "  <thead>\n",
       "    <tr style=\"text-align: right;\">\n",
       "      <th></th>\n",
       "      <th>Country</th>\n",
       "      <th>Region</th>\n",
       "      <th>Hemisphere</th>\n",
       "      <th>HappinessScore</th>\n",
       "      <th>HDI</th>\n",
       "      <th>GDP_PerCapita</th>\n",
       "      <th>Beer_PerCapita</th>\n",
       "      <th>Spirit_PerCapita</th>\n",
       "      <th>Wine_PerCapita</th>\n",
       "      <th>TotalAlcohol_PerCapita</th>\n",
       "    </tr>\n",
       "  </thead>\n",
       "  <tbody>\n",
       "    <tr>\n",
       "      <th>0</th>\n",
       "      <td>Denmark</td>\n",
       "      <td>Western Europe</td>\n",
       "      <td>north</td>\n",
       "      <td>7.526</td>\n",
       "      <td>928</td>\n",
       "      <td>53.579</td>\n",
       "      <td>224</td>\n",
       "      <td>81</td>\n",
       "      <td>278</td>\n",
       "      <td>397.666667</td>\n",
       "    </tr>\n",
       "    <tr>\n",
       "      <th>1</th>\n",
       "      <td>Switzerland</td>\n",
       "      <td>Western Europe</td>\n",
       "      <td>north</td>\n",
       "      <td>7.509</td>\n",
       "      <td>943</td>\n",
       "      <td>79.866</td>\n",
       "      <td>185</td>\n",
       "      <td>100</td>\n",
       "      <td>280</td>\n",
       "      <td>378.333333</td>\n",
       "    </tr>\n",
       "    <tr>\n",
       "      <th>2</th>\n",
       "      <td>Iceland</td>\n",
       "      <td>Western Europe</td>\n",
       "      <td>north</td>\n",
       "      <td>7.501</td>\n",
       "      <td>933</td>\n",
       "      <td>60.530</td>\n",
       "      <td>233</td>\n",
       "      <td>61</td>\n",
       "      <td>78</td>\n",
       "      <td>320.000000</td>\n",
       "    </tr>\n",
       "    <tr>\n",
       "      <th>3</th>\n",
       "      <td>Norway</td>\n",
       "      <td>Western Europe</td>\n",
       "      <td>north</td>\n",
       "      <td>7.498</td>\n",
       "      <td>951</td>\n",
       "      <td>70.890</td>\n",
       "      <td>169</td>\n",
       "      <td>71</td>\n",
       "      <td>129</td>\n",
       "      <td>283.000000</td>\n",
       "    </tr>\n",
       "    <tr>\n",
       "      <th>4</th>\n",
       "      <td>Finland</td>\n",
       "      <td>Western Europe</td>\n",
       "      <td>north</td>\n",
       "      <td>7.413</td>\n",
       "      <td>918</td>\n",
       "      <td>43.433</td>\n",
       "      <td>263</td>\n",
       "      <td>133</td>\n",
       "      <td>97</td>\n",
       "      <td>428.333333</td>\n",
       "    </tr>\n",
       "    <tr>\n",
       "      <th>...</th>\n",
       "      <td>...</td>\n",
       "      <td>...</td>\n",
       "      <td>...</td>\n",
       "      <td>...</td>\n",
       "      <td>...</td>\n",
       "      <td>...</td>\n",
       "      <td>...</td>\n",
       "      <td>...</td>\n",
       "      <td>...</td>\n",
       "      <td>...</td>\n",
       "    </tr>\n",
       "    <tr>\n",
       "      <th>101</th>\n",
       "      <td>Botswana</td>\n",
       "      <td>Sub-Saharan Africa</td>\n",
       "      <td>south</td>\n",
       "      <td>3.974</td>\n",
       "      <td>712</td>\n",
       "      <td>6.954</td>\n",
       "      <td>173</td>\n",
       "      <td>35</td>\n",
       "      <td>35</td>\n",
       "      <td>219.666667</td>\n",
       "    </tr>\n",
       "    <tr>\n",
       "      <th>102</th>\n",
       "      <td>Cote d'Ivoire</td>\n",
       "      <td>Sub-Saharan Africa</td>\n",
       "      <td>north</td>\n",
       "      <td>3.916</td>\n",
       "      <td>486</td>\n",
       "      <td>1.535</td>\n",
       "      <td>37</td>\n",
       "      <td>1</td>\n",
       "      <td>7</td>\n",
       "      <td>40.333333</td>\n",
       "    </tr>\n",
       "    <tr>\n",
       "      <th>103</th>\n",
       "      <td>Cambodia</td>\n",
       "      <td>Southeastern Asia</td>\n",
       "      <td>north</td>\n",
       "      <td>3.907</td>\n",
       "      <td>576</td>\n",
       "      <td>1.270</td>\n",
       "      <td>57</td>\n",
       "      <td>65</td>\n",
       "      <td>1</td>\n",
       "      <td>122.333333</td>\n",
       "    </tr>\n",
       "    <tr>\n",
       "      <th>104</th>\n",
       "      <td>Angola</td>\n",
       "      <td>Sub-Saharan Africa</td>\n",
       "      <td>south</td>\n",
       "      <td>3.866</td>\n",
       "      <td>577</td>\n",
       "      <td>3.309</td>\n",
       "      <td>217</td>\n",
       "      <td>57</td>\n",
       "      <td>45</td>\n",
       "      <td>289.000000</td>\n",
       "    </tr>\n",
       "    <tr>\n",
       "      <th>105</th>\n",
       "      <td>Syria</td>\n",
       "      <td>Middle East and Northern Africa</td>\n",
       "      <td>north</td>\n",
       "      <td>3.069</td>\n",
       "      <td>536</td>\n",
       "      <td>2.058</td>\n",
       "      <td>5</td>\n",
       "      <td>35</td>\n",
       "      <td>16</td>\n",
       "      <td>45.333333</td>\n",
       "    </tr>\n",
       "  </tbody>\n",
       "</table>\n",
       "<p>106 rows × 10 columns</p>\n",
       "</div>"
      ],
      "text/plain": [
       "           Country                           Region Hemisphere  \\\n",
       "0          Denmark                   Western Europe      north   \n",
       "1      Switzerland                   Western Europe      north   \n",
       "2          Iceland                   Western Europe      north   \n",
       "3           Norway                   Western Europe      north   \n",
       "4          Finland                   Western Europe      north   \n",
       "..             ...                              ...        ...   \n",
       "101       Botswana               Sub-Saharan Africa      south   \n",
       "102  Cote d'Ivoire               Sub-Saharan Africa      north   \n",
       "103       Cambodia                Southeastern Asia      north   \n",
       "104         Angola               Sub-Saharan Africa      south   \n",
       "105          Syria  Middle East and Northern Africa      north   \n",
       "\n",
       "     HappinessScore  HDI  GDP_PerCapita  Beer_PerCapita  Spirit_PerCapita  \\\n",
       "0             7.526  928         53.579             224                81   \n",
       "1             7.509  943         79.866             185               100   \n",
       "2             7.501  933         60.530             233                61   \n",
       "3             7.498  951         70.890             169                71   \n",
       "4             7.413  918         43.433             263               133   \n",
       "..              ...  ...            ...             ...               ...   \n",
       "101           3.974  712          6.954             173                35   \n",
       "102           3.916  486          1.535              37                 1   \n",
       "103           3.907  576          1.270              57                65   \n",
       "104           3.866  577          3.309             217                57   \n",
       "105           3.069  536          2.058               5                35   \n",
       "\n",
       "     Wine_PerCapita  TotalAlcohol_PerCapita  \n",
       "0               278              397.666667  \n",
       "1               280              378.333333  \n",
       "2                78              320.000000  \n",
       "3               129              283.000000  \n",
       "4                97              428.333333  \n",
       "..              ...                     ...  \n",
       "101              35              219.666667  \n",
       "102               7               40.333333  \n",
       "103               1              122.333333  \n",
       "104              45              289.000000  \n",
       "105              16               45.333333  \n",
       "\n",
       "[106 rows x 10 columns]"
      ]
     },
     "execution_count": 10,
     "metadata": {},
     "output_type": "execute_result"
    }
   ],
   "source": [
    "alcoholanalysis"
   ]
  },
  {
   "cell_type": "code",
   "execution_count": 8,
   "id": "4c53cca3",
   "metadata": {},
   "outputs": [
    {
     "data": {
      "text/html": [
       "<div>\n",
       "<style scoped>\n",
       "    .dataframe tbody tr th:only-of-type {\n",
       "        vertical-align: middle;\n",
       "    }\n",
       "\n",
       "    .dataframe tbody tr th {\n",
       "        vertical-align: top;\n",
       "    }\n",
       "\n",
       "    .dataframe thead th {\n",
       "        text-align: right;\n",
       "    }\n",
       "</style>\n",
       "<table border=\"1\" class=\"dataframe\">\n",
       "  <thead>\n",
       "    <tr style=\"text-align: right;\">\n",
       "      <th></th>\n",
       "      <th>HappinessScore</th>\n",
       "      <th>HDI</th>\n",
       "      <th>GDP_PerCapita</th>\n",
       "      <th>Beer_PerCapita</th>\n",
       "      <th>Spirit_PerCapita</th>\n",
       "      <th>Wine_PerCapita</th>\n",
       "      <th>TotalAlcohol_PerCapita</th>\n",
       "    </tr>\n",
       "  </thead>\n",
       "  <tbody>\n",
       "    <tr>\n",
       "      <th>count</th>\n",
       "      <td>106.000000</td>\n",
       "      <td>106.000000</td>\n",
       "      <td>106.000000</td>\n",
       "      <td>106.000000</td>\n",
       "      <td>106.000000</td>\n",
       "      <td>106.000000</td>\n",
       "      <td>106.000000</td>\n",
       "    </tr>\n",
       "    <tr>\n",
       "      <th>mean</th>\n",
       "      <td>5.742708</td>\n",
       "      <td>777.320755</td>\n",
       "      <td>17.020443</td>\n",
       "      <td>153.094340</td>\n",
       "      <td>104.877358</td>\n",
       "      <td>73.433962</td>\n",
       "      <td>282.449686</td>\n",
       "    </tr>\n",
       "    <tr>\n",
       "      <th>std</th>\n",
       "      <td>1.029940</td>\n",
       "      <td>115.857511</td>\n",
       "      <td>18.723030</td>\n",
       "      <td>101.691553</td>\n",
       "      <td>77.298149</td>\n",
       "      <td>89.172601</td>\n",
       "      <td>157.643970</td>\n",
       "    </tr>\n",
       "    <tr>\n",
       "      <th>min</th>\n",
       "      <td>3.069000</td>\n",
       "      <td>452.000000</td>\n",
       "      <td>1.029000</td>\n",
       "      <td>1.000000</td>\n",
       "      <td>1.000000</td>\n",
       "      <td>1.000000</td>\n",
       "      <td>10.333333</td>\n",
       "    </tr>\n",
       "    <tr>\n",
       "      <th>25%</th>\n",
       "      <td>5.121500</td>\n",
       "      <td>703.500000</td>\n",
       "      <td>3.869750</td>\n",
       "      <td>60.750000</td>\n",
       "      <td>47.250000</td>\n",
       "      <td>7.000000</td>\n",
       "      <td>138.583333</td>\n",
       "    </tr>\n",
       "    <tr>\n",
       "      <th>50%</th>\n",
       "      <td>5.807500</td>\n",
       "      <td>785.000000</td>\n",
       "      <td>8.187000</td>\n",
       "      <td>148.000000</td>\n",
       "      <td>97.000000</td>\n",
       "      <td>20.500000</td>\n",
       "      <td>289.000000</td>\n",
       "    </tr>\n",
       "    <tr>\n",
       "      <th>75%</th>\n",
       "      <td>6.530750</td>\n",
       "      <td>868.000000</td>\n",
       "      <td>23.296000</td>\n",
       "      <td>232.500000</td>\n",
       "      <td>150.000000</td>\n",
       "      <td>125.250000</td>\n",
       "      <td>401.583333</td>\n",
       "    </tr>\n",
       "    <tr>\n",
       "      <th>max</th>\n",
       "      <td>7.526000</td>\n",
       "      <td>951.000000</td>\n",
       "      <td>79.866000</td>\n",
       "      <td>376.000000</td>\n",
       "      <td>373.000000</td>\n",
       "      <td>370.000000</td>\n",
       "      <td>605.666667</td>\n",
       "    </tr>\n",
       "  </tbody>\n",
       "</table>\n",
       "</div>"
      ],
      "text/plain": [
       "       HappinessScore         HDI  GDP_PerCapita  Beer_PerCapita  \\\n",
       "count      106.000000  106.000000     106.000000      106.000000   \n",
       "mean         5.742708  777.320755      17.020443      153.094340   \n",
       "std          1.029940  115.857511      18.723030      101.691553   \n",
       "min          3.069000  452.000000       1.029000        1.000000   \n",
       "25%          5.121500  703.500000       3.869750       60.750000   \n",
       "50%          5.807500  785.000000       8.187000      148.000000   \n",
       "75%          6.530750  868.000000      23.296000      232.500000   \n",
       "max          7.526000  951.000000      79.866000      376.000000   \n",
       "\n",
       "       Spirit_PerCapita  Wine_PerCapita  TotalAlcohol_PerCapita  \n",
       "count        106.000000      106.000000              106.000000  \n",
       "mean         104.877358       73.433962              282.449686  \n",
       "std           77.298149       89.172601              157.643970  \n",
       "min            1.000000        1.000000               10.333333  \n",
       "25%           47.250000        7.000000              138.583333  \n",
       "50%           97.000000       20.500000              289.000000  \n",
       "75%          150.000000      125.250000              401.583333  \n",
       "max          373.000000      370.000000              605.666667  "
      ]
     },
     "execution_count": 8,
     "metadata": {},
     "output_type": "execute_result"
    }
   ],
   "source": [
    "alcoholanalysis.describe ()"
   ]
  },
  {
   "cell_type": "markdown",
   "id": "86e4fc25",
   "metadata": {},
   "source": [
    "# Import Libraries for Plotting"
   ]
  },
  {
   "cell_type": "code",
   "execution_count": 9,
   "id": "36f70ffb",
   "metadata": {},
   "outputs": [],
   "source": [
    "import seaborn as sns\n",
    "import matplotlib.pyplot as plt"
   ]
  },
  {
   "cell_type": "code",
   "execution_count": 11,
   "id": "c0f2ecd9",
   "metadata": {},
   "outputs": [
    {
     "data": {
      "text/plain": [
       "<seaborn.axisgrid.PairGrid at 0x1f45eb68f70>"
      ]
     },
     "execution_count": 11,
     "metadata": {},
     "output_type": "execute_result"
    },
    {
     "data": {
      "image/png": "[encoded data removed]",
      "text/plain": [
       "<Figure size 1512x360 with 6 Axes>"
      ]
     },
     "metadata": {
      "needs_background": "light"
     },
     "output_type": "display_data"
    }
   ],
   "source": [
    "sns.pairplot(alcoholanalysis, x_vars=['HDI', 'GDP_PerCapita', 'Beer_PerCapita', 'Spirit_PerCapita', 'Wine_PerCapita', 'TotalAlcohol_PerCapita'], y_vars='HappinessScore', height=5, aspect =0.7, kind='reg')"
   ]
  },
  {
   "cell_type": "markdown",
   "id": "71e8fc51",
   "metadata": {},
   "source": [
    "# Extract Features into X and Examine X"
   ]
  },
  {
   "cell_type": "code",
   "execution_count": 12,
   "id": "8d8dc9b8",
   "metadata": {},
   "outputs": [],
   "source": [
    "feature_columns = ['HDI', 'GDP_PerCapita', 'Beer_PerCapita', 'Spirit_PerCapita', 'Wine_PerCapita', 'TotalAlcohol_PerCapita']"
   ]
  },
  {
   "cell_type": "code",
   "execution_count": 13,
   "id": "fb9a39f1",
   "metadata": {},
   "outputs": [],
   "source": [
    "X = alcoholanalysis[feature_columns]"
   ]
  },
  {
   "cell_type": "code",
   "execution_count": 14,
   "id": "6c7873d3",
   "metadata": {},
   "outputs": [],
   "source": [
    "X= alcoholanalysis[['HDI', 'GDP_PerCapita', 'Beer_PerCapita', 'Spirit_PerCapita', 'Wine_PerCapita', 'TotalAlcohol_PerCapita']]"
   ]
  },
  {
   "cell_type": "code",
   "execution_count": 15,
   "id": "40061c01",
   "metadata": {},
   "outputs": [
    {
     "data": {
      "text/html": [
       "<div>\n",
       "<style scoped>\n",
       "    .dataframe tbody tr th:only-of-type {\n",
       "        vertical-align: middle;\n",
       "    }\n",
       "\n",
       "    .dataframe tbody tr th {\n",
       "        vertical-align: top;\n",
       "    }\n",
       "\n",
       "    .dataframe thead th {\n",
       "        text-align: right;\n",
       "    }\n",
       "</style>\n",
       "<table border=\"1\" class=\"dataframe\">\n",
       "  <thead>\n",
       "    <tr style=\"text-align: right;\">\n",
       "      <th></th>\n",
       "      <th>HDI</th>\n",
       "      <th>GDP_PerCapita</th>\n",
       "      <th>Beer_PerCapita</th>\n",
       "      <th>Spirit_PerCapita</th>\n",
       "      <th>Wine_PerCapita</th>\n",
       "      <th>TotalAlcohol_PerCapita</th>\n",
       "    </tr>\n",
       "  </thead>\n",
       "  <tbody>\n",
       "    <tr>\n",
       "      <th>0</th>\n",
       "      <td>928</td>\n",
       "      <td>53.579</td>\n",
       "      <td>224</td>\n",
       "      <td>81</td>\n",
       "      <td>278</td>\n",
       "      <td>397.666667</td>\n",
       "    </tr>\n",
       "    <tr>\n",
       "      <th>1</th>\n",
       "      <td>943</td>\n",
       "      <td>79.866</td>\n",
       "      <td>185</td>\n",
       "      <td>100</td>\n",
       "      <td>280</td>\n",
       "      <td>378.333333</td>\n",
       "    </tr>\n",
       "    <tr>\n",
       "      <th>2</th>\n",
       "      <td>933</td>\n",
       "      <td>60.530</td>\n",
       "      <td>233</td>\n",
       "      <td>61</td>\n",
       "      <td>78</td>\n",
       "      <td>320.000000</td>\n",
       "    </tr>\n",
       "    <tr>\n",
       "      <th>3</th>\n",
       "      <td>951</td>\n",
       "      <td>70.890</td>\n",
       "      <td>169</td>\n",
       "      <td>71</td>\n",
       "      <td>129</td>\n",
       "      <td>283.000000</td>\n",
       "    </tr>\n",
       "    <tr>\n",
       "      <th>4</th>\n",
       "      <td>918</td>\n",
       "      <td>43.433</td>\n",
       "      <td>263</td>\n",
       "      <td>133</td>\n",
       "      <td>97</td>\n",
       "      <td>428.333333</td>\n",
       "    </tr>\n",
       "    <tr>\n",
       "      <th>...</th>\n",
       "      <td>...</td>\n",
       "      <td>...</td>\n",
       "      <td>...</td>\n",
       "      <td>...</td>\n",
       "      <td>...</td>\n",
       "      <td>...</td>\n",
       "    </tr>\n",
       "    <tr>\n",
       "      <th>101</th>\n",
       "      <td>712</td>\n",
       "      <td>6.954</td>\n",
       "      <td>173</td>\n",
       "      <td>35</td>\n",
       "      <td>35</td>\n",
       "      <td>219.666667</td>\n",
       "    </tr>\n",
       "    <tr>\n",
       "      <th>102</th>\n",
       "      <td>486</td>\n",
       "      <td>1.535</td>\n",
       "      <td>37</td>\n",
       "      <td>1</td>\n",
       "      <td>7</td>\n",
       "      <td>40.333333</td>\n",
       "    </tr>\n",
       "    <tr>\n",
       "      <th>103</th>\n",
       "      <td>576</td>\n",
       "      <td>1.270</td>\n",
       "      <td>57</td>\n",
       "      <td>65</td>\n",
       "      <td>1</td>\n",
       "      <td>122.333333</td>\n",
       "    </tr>\n",
       "    <tr>\n",
       "      <th>104</th>\n",
       "      <td>577</td>\n",
       "      <td>3.309</td>\n",
       "      <td>217</td>\n",
       "      <td>57</td>\n",
       "      <td>45</td>\n",
       "      <td>289.000000</td>\n",
       "    </tr>\n",
       "    <tr>\n",
       "      <th>105</th>\n",
       "      <td>536</td>\n",
       "      <td>2.058</td>\n",
       "      <td>5</td>\n",
       "      <td>35</td>\n",
       "      <td>16</td>\n",
       "      <td>45.333333</td>\n",
       "    </tr>\n",
       "  </tbody>\n",
       "</table>\n",
       "<p>106 rows × 6 columns</p>\n",
       "</div>"
      ],
      "text/plain": [
       "     HDI  GDP_PerCapita  Beer_PerCapita  Spirit_PerCapita  Wine_PerCapita  \\\n",
       "0    928         53.579             224                81             278   \n",
       "1    943         79.866             185               100             280   \n",
       "2    933         60.530             233                61              78   \n",
       "3    951         70.890             169                71             129   \n",
       "4    918         43.433             263               133              97   \n",
       "..   ...            ...             ...               ...             ...   \n",
       "101  712          6.954             173                35              35   \n",
       "102  486          1.535              37                 1               7   \n",
       "103  576          1.270              57                65               1   \n",
       "104  577          3.309             217                57              45   \n",
       "105  536          2.058               5                35              16   \n",
       "\n",
       "     TotalAlcohol_PerCapita  \n",
       "0                397.666667  \n",
       "1                378.333333  \n",
       "2                320.000000  \n",
       "3                283.000000  \n",
       "4                428.333333  \n",
       "..                      ...  \n",
       "101              219.666667  \n",
       "102               40.333333  \n",
       "103              122.333333  \n",
       "104              289.000000  \n",
       "105               45.333333  \n",
       "\n",
       "[106 rows x 6 columns]"
      ]
     },
     "execution_count": 15,
     "metadata": {},
     "output_type": "execute_result"
    }
   ],
   "source": [
    "X"
   ]
  },
  {
   "cell_type": "code",
   "execution_count": 44,
   "id": "be732ead",
   "metadata": {},
   "outputs": [
    {
     "data": {
      "text/plain": [
       "array([[<AxesSubplot:title={'center':'HDI'}>,\n",
       "        <AxesSubplot:title={'center':'GDP_PerCapita'}>],\n",
       "       [<AxesSubplot:title={'center':'Beer_PerCapita'}>,\n",
       "        <AxesSubplot:title={'center':'Spirit_PerCapita'}>],\n",
       "       [<AxesSubplot:title={'center':'Wine_PerCapita'}>,\n",
       "        <AxesSubplot:title={'center':'TotalAlcohol_PerCapita'}>]],\n",
       "      dtype=object)"
      ]
     },
     "execution_count": 44,
     "metadata": {},
     "output_type": "execute_result"
    },
    {
     "data": {
      "image/png": "[encoded data removed]",
      "text/plain": [
       "<Figure size 640x480 with 6 Axes>"
      ]
     },
     "metadata": {},
     "output_type": "display_data"
    }
   ],
   "source": [
    "X.hist()"
   ]
  },
  {
   "cell_type": "markdown",
   "id": "f4873644",
   "metadata": {},
   "source": [
    "# Extract the Output Variable into y and Examine y"
   ]
  },
  {
   "cell_type": "code",
   "execution_count": 16,
   "id": "eca742ee",
   "metadata": {},
   "outputs": [],
   "source": [
    "y = alcoholanalysis['HappinessScore']"
   ]
  },
  {
   "cell_type": "code",
   "execution_count": 17,
   "id": "d0c0fcf8",
   "metadata": {},
   "outputs": [
    {
     "data": {
      "text/plain": [
       "0      7.526\n",
       "1      7.509\n",
       "2      7.501\n",
       "3      7.498\n",
       "4      7.413\n",
       "       ...  \n",
       "101    3.974\n",
       "102    3.916\n",
       "103    3.907\n",
       "104    3.866\n",
       "105    3.069\n",
       "Name: HappinessScore, Length: 106, dtype: float64"
      ]
     },
     "execution_count": 17,
     "metadata": {},
     "output_type": "execute_result"
    }
   ],
   "source": [
    "y"
   ]
  },
  {
   "cell_type": "markdown",
   "id": "0fddad91",
   "metadata": {},
   "source": [
    "# Train/Test the Model"
   ]
  },
  {
   "cell_type": "code",
   "execution_count": 18,
   "id": "a6e11d97",
   "metadata": {},
   "outputs": [],
   "source": [
    "from sklearn.model_selection import train_test_split"
   ]
  },
  {
   "cell_type": "code",
   "execution_count": 19,
   "id": "02892883",
   "metadata": {},
   "outputs": [],
   "source": [
    "X_train, X_test, y_train, y_test = train_test_split(X, y, random_state = 1)"
   ]
  },
  {
   "cell_type": "code",
   "execution_count": 20,
   "id": "82437a45",
   "metadata": {},
   "outputs": [
    {
     "name": "stdout",
     "output_type": "stream",
     "text": [
      "(79, 6)\n"
     ]
    }
   ],
   "source": [
    "print(X_train.shape)"
   ]
  },
  {
   "cell_type": "code",
   "execution_count": 21,
   "id": "01e4fb03",
   "metadata": {},
   "outputs": [
    {
     "name": "stdout",
     "output_type": "stream",
     "text": [
      "(79,)\n"
     ]
    }
   ],
   "source": [
    "print(y_train.shape)"
   ]
  },
  {
   "cell_type": "code",
   "execution_count": 22,
   "id": "ede6e06c",
   "metadata": {},
   "outputs": [
    {
     "name": "stdout",
     "output_type": "stream",
     "text": [
      "(27, 6)\n"
     ]
    }
   ],
   "source": [
    "print(X_test.shape)"
   ]
  },
  {
   "cell_type": "code",
   "execution_count": 23,
   "id": "c4c8a65e",
   "metadata": {},
   "outputs": [
    {
     "name": "stdout",
     "output_type": "stream",
     "text": [
      "(27,)\n"
     ]
    }
   ],
   "source": [
    "print(y_test.shape)"
   ]
  },
  {
   "cell_type": "code",
   "execution_count": 24,
   "id": "34a3bf43",
   "metadata": {},
   "outputs": [],
   "source": [
    "from sklearn.linear_model import LinearRegression"
   ]
  },
  {
   "cell_type": "code",
   "execution_count": 54,
   "id": "0f992a7e",
   "metadata": {},
   "outputs": [
    {
     "data": {
      "text/html": [
       "<style>#sk-container-id-3 {color: black;background-color: white;}#sk-container-id-3 pre{padding: 0;}#sk-container-id-3 div.sk-toggleable {background-color: white;}#sk-container-id-3 label.sk-toggleable__label {cursor: pointer;display: block;width: 100%;margin-bottom: 0;padding: 0.3em;box-sizing: border-box;text-align: center;}#sk-container-id-3 label.sk-toggleable__label-arrow:before {content: \"▸\";float: left;margin-right: 0.25em;color: #696969;}#sk-container-id-3 label.sk-toggleable__label-arrow:hover:before {color: black;}#sk-container-id-3 div.sk-estimator:hover label.sk-toggleable__label-arrow:before {color: black;}#sk-container-id-3 div.sk-toggleable__content {max-height: 0;max-width: 0;overflow: hidden;text-align: left;background-color: #f0f8ff;}#sk-container-id-3 div.sk-toggleable__content pre {margin: 0.2em;color: black;border-radius: 0.25em;background-color: #f0f8ff;}#sk-container-id-3 input.sk-toggleable__control:checked~div.sk-toggleable__content {max-height: 200px;max-width: 100%;overflow: auto;}#sk-container-id-3 input.sk-toggleable__control:checked~label.sk-toggleable__label-arrow:before {content: \"▾\";}#sk-container-id-3 div.sk-estimator input.sk-toggleable__control:checked~label.sk-toggleable__label {background-color: #d4ebff;}#sk-container-id-3 div.sk-label input.sk-toggleable__control:checked~label.sk-toggleable__label {background-color: #d4ebff;}#sk-container-id-3 input.sk-hidden--visually {border: 0;clip: rect(1px 1px 1px 1px);clip: rect(1px, 1px, 1px, 1px);height: 1px;margin: -1px;overflow: hidden;padding: 0;position: absolute;width: 1px;}#sk-container-id-3 div.sk-estimator {font-family: monospace;background-color: #f0f8ff;border: 1px dotted black;border-radius: 0.25em;box-sizing: border-box;margin-bottom: 0.5em;}#sk-container-id-3 div.sk-estimator:hover {background-color: #d4ebff;}#sk-container-id-3 div.sk-parallel-item::after {content: \"\";width: 100%;border-bottom: 1px solid gray;flex-grow: 1;}#sk-container-id-3 div.sk-label:hover label.sk-toggleable__label {background-color: #d4ebff;}#sk-container-id-3 div.sk-serial::before {content: \"\";position: absolute;border-left: 1px solid gray;box-sizing: border-box;top: 0;bottom: 0;left: 50%;z-index: 0;}#sk-container-id-3 div.sk-serial {display: flex;flex-direction: column;align-items: center;background-color: white;padding-right: 0.2em;padding-left: 0.2em;position: relative;}#sk-container-id-3 div.sk-item {position: relative;z-index: 1;}#sk-container-id-3 div.sk-parallel {display: flex;align-items: stretch;justify-content: center;background-color: white;position: relative;}#sk-container-id-3 div.sk-item::before, #sk-container-id-3 div.sk-parallel-item::before {content: \"\";position: absolute;border-left: 1px solid gray;box-sizing: border-box;top: 0;bottom: 0;left: 50%;z-index: -1;}#sk-container-id-3 div.sk-parallel-item {display: flex;flex-direction: column;z-index: 1;position: relative;background-color: white;}#sk-container-id-3 div.sk-parallel-item:first-child::after {align-self: flex-end;width: 50%;}#sk-container-id-3 div.sk-parallel-item:last-child::after {align-self: flex-start;width: 50%;}#sk-container-id-3 div.sk-parallel-item:only-child::after {width: 0;}#sk-container-id-3 div.sk-dashed-wrapped {border: 1px dashed gray;margin: 0 0.4em 0.5em 0.4em;box-sizing: border-box;padding-bottom: 0.4em;background-color: white;}#sk-container-id-3 div.sk-label label {font-family: monospace;font-weight: bold;display: inline-block;line-height: 1.2em;}#sk-container-id-3 div.sk-label-container {text-align: center;}#sk-container-id-3 div.sk-container {/* jupyter's `normalize.less` sets `[hidden] { display: none; }` but bootstrap.min.css set `[hidden] { display: none !important; }` so we also need the `!important` here to be able to override the default hidden behavior on the sphinx rendered scikit-learn.org. See: https://github.com/scikit-learn/scikit-learn/issues/21755 */display: inline-block !important;position: relative;}#sk-container-id-3 div.sk-text-repr-fallback {display: none;}</style><div id=\"sk-container-id-3\" class=\"sk-top-container\"><div class=\"sk-text-repr-fallback\"><pre>LinearRegression()</pre><b>In a Jupyter environment, please rerun this cell to show the HTML representation or trust the notebook. <br />On GitHub, the HTML representation is unable to render, please try loading this page with nbviewer.org.</b></div><div class=\"sk-container\" hidden><div class=\"sk-item\"><div class=\"sk-estimator sk-toggleable\"><input class=\"sk-toggleable__control sk-hidden--visually\" id=\"sk-estimator-id-3\" type=\"checkbox\" checked><label for=\"sk-estimator-id-3\" class=\"sk-toggleable__label sk-toggleable__label-arrow\">LinearRegression</label><div class=\"sk-toggleable__content\"><pre>LinearRegression()</pre></div></div></div></div></div>"
      ],
      "text/plain": [
       "LinearRegression()"
      ]
     },
     "execution_count": 54,
     "metadata": {},
     "output_type": "execute_result"
    }
   ],
   "source": [
    "lr=LinearRegression()\n",
    "lr.fit(X_train, y_train)"
   ]
  },
  {
   "cell_type": "code",
   "execution_count": 32,
   "id": "b45e1241",
   "metadata": {},
   "outputs": [
    {
     "name": "stdout",
     "output_type": "stream",
     "text": [
      "1.6777679424285887\n"
     ]
    }
   ],
   "source": [
    "print (lr.intercept_)"
   ]
  },
  {
   "cell_type": "code",
   "execution_count": 34,
   "id": "c1266816",
   "metadata": {},
   "outputs": [
    {
     "name": "stdout",
     "output_type": "stream",
     "text": [
      "[ 4.89560830e-03  1.99101167e-02  4.32898126e+06  4.32898125e+06\n",
      "  1.44299375e+06 -4.32898125e+06]\n"
     ]
    }
   ],
   "source": [
    "#array in the order of 'HDI', 'GDP_PerCapita', 'Beer_PerCapita', 'Spirit_PerCapita', 'Wine_PerCapita', 'TotalAlcohol_PerCapita'\n",
    "print(lr.coef_)"
   ]
  },
  {
   "cell_type": "code",
   "execution_count": 35,
   "id": "7d228436",
   "metadata": {},
   "outputs": [
    {
     "data": {
      "text/plain": [
       "0.16727571442610834"
      ]
     },
     "execution_count": 35,
     "metadata": {},
     "output_type": "execute_result"
    }
   ],
   "source": [
    "lr.score(X_test, y_test)"
   ]
  },
  {
   "cell_type": "markdown",
   "id": "d2d34c7c",
   "metadata": {},
   "source": [
    "# Testing the Model and Checking Predictions"
   ]
  },
  {
   "cell_type": "code",
   "execution_count": 57,
   "id": "e2f5313e",
   "metadata": {},
   "outputs": [
    {
     "data": {
      "text/html": [
       "<div>\n",
       "<style scoped>\n",
       "    .dataframe tbody tr th:only-of-type {\n",
       "        vertical-align: middle;\n",
       "    }\n",
       "\n",
       "    .dataframe tbody tr th {\n",
       "        vertical-align: top;\n",
       "    }\n",
       "\n",
       "    .dataframe thead th {\n",
       "        text-align: right;\n",
       "    }\n",
       "</style>\n",
       "<table border=\"1\" class=\"dataframe\">\n",
       "  <thead>\n",
       "    <tr style=\"text-align: right;\">\n",
       "      <th></th>\n",
       "      <th>HDI</th>\n",
       "      <th>GDP_PerCapita</th>\n",
       "      <th>Beer_PerCapita</th>\n",
       "      <th>Spirit_PerCapita</th>\n",
       "      <th>Wine_PerCapita</th>\n",
       "      <th>TotalAlcohol_PerCapita</th>\n",
       "    </tr>\n",
       "  </thead>\n",
       "  <tbody>\n",
       "    <tr>\n",
       "      <th>66</th>\n",
       "      <td>735</td>\n",
       "      <td>4.088</td>\n",
       "      <td>6</td>\n",
       "      <td>21</td>\n",
       "      <td>1</td>\n",
       "      <td>27.333333</td>\n",
       "    </tr>\n",
       "    <tr>\n",
       "      <th>35</th>\n",
       "      <td>846</td>\n",
       "      <td>22.561</td>\n",
       "      <td>42</td>\n",
       "      <td>63</td>\n",
       "      <td>7</td>\n",
       "      <td>107.333333</td>\n",
       "    </tr>\n",
       "    <tr>\n",
       "      <th>59</th>\n",
       "      <td>867</td>\n",
       "      <td>23.541</td>\n",
       "      <td>192</td>\n",
       "      <td>154</td>\n",
       "      <td>113</td>\n",
       "      <td>383.666667</td>\n",
       "    </tr>\n",
       "    <tr>\n",
       "      <th>77</th>\n",
       "      <td>753</td>\n",
       "      <td>8.257</td>\n",
       "      <td>20</td>\n",
       "      <td>55</td>\n",
       "      <td>31</td>\n",
       "      <td>85.333333</td>\n",
       "    </tr>\n",
       "    <tr>\n",
       "      <th>39</th>\n",
       "      <td>679</td>\n",
       "      <td>3.769</td>\n",
       "      <td>52</td>\n",
       "      <td>69</td>\n",
       "      <td>2</td>\n",
       "      <td>121.666667</td>\n",
       "    </tr>\n",
       "    <tr>\n",
       "      <th>56</th>\n",
       "      <td>705</td>\n",
       "      <td>6.389</td>\n",
       "      <td>19</td>\n",
       "      <td>71</td>\n",
       "      <td>32</td>\n",
       "      <td>100.666667</td>\n",
       "    </tr>\n",
       "    <tr>\n",
       "      <th>55</th>\n",
       "      <td>748</td>\n",
       "      <td>6.031</td>\n",
       "      <td>163</td>\n",
       "      <td>160</td>\n",
       "      <td>21</td>\n",
       "      <td>330.000000</td>\n",
       "    </tr>\n",
       "    <tr>\n",
       "      <th>87</th>\n",
       "      <td>782</td>\n",
       "      <td>4.132</td>\n",
       "      <td>89</td>\n",
       "      <td>132</td>\n",
       "      <td>54</td>\n",
       "      <td>239.000000</td>\n",
       "    </tr>\n",
       "    <tr>\n",
       "      <th>31</th>\n",
       "      <td>855</td>\n",
       "      <td>59.324</td>\n",
       "      <td>1</td>\n",
       "      <td>42</td>\n",
       "      <td>7</td>\n",
       "      <td>45.333333</td>\n",
       "    </tr>\n",
       "    <tr>\n",
       "      <th>58</th>\n",
       "      <td>844</td>\n",
       "      <td>14.070</td>\n",
       "      <td>281</td>\n",
       "      <td>216</td>\n",
       "      <td>62</td>\n",
       "      <td>517.666667</td>\n",
       "    </tr>\n",
       "    <tr>\n",
       "      <th>100</th>\n",
       "      <td>698</td>\n",
       "      <td>7.079</td>\n",
       "      <td>347</td>\n",
       "      <td>98</td>\n",
       "      <td>59</td>\n",
       "      <td>464.666667</td>\n",
       "    </tr>\n",
       "    <tr>\n",
       "      <th>48</th>\n",
       "      <td>815</td>\n",
       "      <td>8.748</td>\n",
       "      <td>247</td>\n",
       "      <td>326</td>\n",
       "      <td>73</td>\n",
       "      <td>597.333333</td>\n",
       "    </tr>\n",
       "    <tr>\n",
       "      <th>93</th>\n",
       "      <td>585</td>\n",
       "      <td>1.463</td>\n",
       "      <td>58</td>\n",
       "      <td>22</td>\n",
       "      <td>2</td>\n",
       "      <td>80.666667</td>\n",
       "    </tr>\n",
       "    <tr>\n",
       "      <th>53</th>\n",
       "      <td>805</td>\n",
       "      <td>5.023</td>\n",
       "      <td>142</td>\n",
       "      <td>373</td>\n",
       "      <td>42</td>\n",
       "      <td>529.000000</td>\n",
       "    </tr>\n",
       "    <tr>\n",
       "      <th>33</th>\n",
       "      <td>649</td>\n",
       "      <td>4.141</td>\n",
       "      <td>53</td>\n",
       "      <td>69</td>\n",
       "      <td>2</td>\n",
       "      <td>122.666667</td>\n",
       "    </tr>\n",
       "    <tr>\n",
       "      <th>90</th>\n",
       "      <td>696</td>\n",
       "      <td>5.280</td>\n",
       "      <td>225</td>\n",
       "      <td>76</td>\n",
       "      <td>81</td>\n",
       "      <td>328.000000</td>\n",
       "    </tr>\n",
       "    <tr>\n",
       "      <th>38</th>\n",
       "      <td>853</td>\n",
       "      <td>16.530</td>\n",
       "      <td>196</td>\n",
       "      <td>293</td>\n",
       "      <td>116</td>\n",
       "      <td>527.666667</td>\n",
       "    </tr>\n",
       "    <tr>\n",
       "      <th>70</th>\n",
       "      <td>669</td>\n",
       "      <td>1.220</td>\n",
       "      <td>31</td>\n",
       "      <td>97</td>\n",
       "      <td>6</td>\n",
       "      <td>130.000000</td>\n",
       "    </tr>\n",
       "    <tr>\n",
       "      <th>17</th>\n",
       "      <td>934</td>\n",
       "      <td>64.100</td>\n",
       "      <td>313</td>\n",
       "      <td>118</td>\n",
       "      <td>165</td>\n",
       "      <td>486.000000</td>\n",
       "    </tr>\n",
       "    <tr>\n",
       "      <th>74</th>\n",
       "      <td>733</td>\n",
       "      <td>6.794</td>\n",
       "      <td>193</td>\n",
       "      <td>147</td>\n",
       "      <td>9</td>\n",
       "      <td>343.000000</td>\n",
       "    </tr>\n",
       "    <tr>\n",
       "      <th>103</th>\n",
       "      <td>576</td>\n",
       "      <td>1.270</td>\n",
       "      <td>57</td>\n",
       "      <td>65</td>\n",
       "      <td>1</td>\n",
       "      <td>122.333333</td>\n",
       "    </tr>\n",
       "    <tr>\n",
       "      <th>88</th>\n",
       "      <td>645</td>\n",
       "      <td>4.561</td>\n",
       "      <td>376</td>\n",
       "      <td>3</td>\n",
       "      <td>1</td>\n",
       "      <td>379.333333</td>\n",
       "    </tr>\n",
       "    <tr>\n",
       "      <th>82</th>\n",
       "      <td>868</td>\n",
       "      <td>17.882</td>\n",
       "      <td>133</td>\n",
       "      <td>112</td>\n",
       "      <td>218</td>\n",
       "      <td>317.666667</td>\n",
       "    </tr>\n",
       "    <tr>\n",
       "      <th>46</th>\n",
       "      <td>797</td>\n",
       "      <td>7.715</td>\n",
       "      <td>124</td>\n",
       "      <td>246</td>\n",
       "      <td>12</td>\n",
       "      <td>374.000000</td>\n",
       "    </tr>\n",
       "    <tr>\n",
       "      <th>44</th>\n",
       "      <td>709</td>\n",
       "      <td>4.960</td>\n",
       "      <td>263</td>\n",
       "      <td>114</td>\n",
       "      <td>8</td>\n",
       "      <td>379.666667</td>\n",
       "    </tr>\n",
       "    <tr>\n",
       "      <th>42</th>\n",
       "      <td>878</td>\n",
       "      <td>30.669</td>\n",
       "      <td>85</td>\n",
       "      <td>42</td>\n",
       "      <td>237</td>\n",
       "      <td>206.000000</td>\n",
       "    </tr>\n",
       "    <tr>\n",
       "      <th>85</th>\n",
       "      <td>614</td>\n",
       "      <td>2.375</td>\n",
       "      <td>69</td>\n",
       "      <td>98</td>\n",
       "      <td>2</td>\n",
       "      <td>167.666667</td>\n",
       "    </tr>\n",
       "  </tbody>\n",
       "</table>\n",
       "</div>"
      ],
      "text/plain": [
       "     HDI  GDP_PerCapita  Beer_PerCapita  Spirit_PerCapita  Wine_PerCapita  \\\n",
       "66   735          4.088               6                21               1   \n",
       "35   846         22.561              42                63               7   \n",
       "59   867         23.541             192               154             113   \n",
       "77   753          8.257              20                55              31   \n",
       "39   679          3.769              52                69               2   \n",
       "56   705          6.389              19                71              32   \n",
       "55   748          6.031             163               160              21   \n",
       "87   782          4.132              89               132              54   \n",
       "31   855         59.324               1                42               7   \n",
       "58   844         14.070             281               216              62   \n",
       "100  698          7.079             347                98              59   \n",
       "48   815          8.748             247               326              73   \n",
       "93   585          1.463              58                22               2   \n",
       "53   805          5.023             142               373              42   \n",
       "33   649          4.141              53                69               2   \n",
       "90   696          5.280             225                76              81   \n",
       "38   853         16.530             196               293             116   \n",
       "70   669          1.220              31                97               6   \n",
       "17   934         64.100             313               118             165   \n",
       "74   733          6.794             193               147               9   \n",
       "103  576          1.270              57                65               1   \n",
       "88   645          4.561             376                 3               1   \n",
       "82   868         17.882             133               112             218   \n",
       "46   797          7.715             124               246              12   \n",
       "44   709          4.960             263               114               8   \n",
       "42   878         30.669              85                42             237   \n",
       "85   614          2.375              69                98               2   \n",
       "\n",
       "     TotalAlcohol_PerCapita  \n",
       "66                27.333333  \n",
       "35               107.333333  \n",
       "59               383.666667  \n",
       "77                85.333333  \n",
       "39               121.666667  \n",
       "56               100.666667  \n",
       "55               330.000000  \n",
       "87               239.000000  \n",
       "31                45.333333  \n",
       "58               517.666667  \n",
       "100              464.666667  \n",
       "48               597.333333  \n",
       "93                80.666667  \n",
       "53               529.000000  \n",
       "33               122.666667  \n",
       "90               328.000000  \n",
       "38               527.666667  \n",
       "70               130.000000  \n",
       "17               486.000000  \n",
       "74               343.000000  \n",
       "103              122.333333  \n",
       "88               379.333333  \n",
       "82               317.666667  \n",
       "46               374.000000  \n",
       "44               379.666667  \n",
       "42               206.000000  \n",
       "85               167.666667  "
      ]
     },
     "execution_count": 57,
     "metadata": {},
     "output_type": "execute_result"
    }
   ],
   "source": [
    "X_test"
   ]
  },
  {
   "cell_type": "code",
   "execution_count": null,
   "id": "78949844",
   "metadata": {},
   "outputs": [],
   "source": [
    "# can you get p values for ceofficients? This will allow you to test if these values are accurate\n",
    "#if you can't say \"I couldn't do it becuase I couldn't find p values\n",
    "#Be able to explain P vaues in Report though\n",
    "4.89560830e-03, 1.99101167e-02,   4.32898126e+06,  4.32898125e+06, 1.44299375e+06, -4.32898125e+06"
   ]
  },
  {
   "cell_type": "code",
   "execution_count": 38,
   "id": "f47b0b45",
   "metadata": {},
   "outputs": [],
   "source": [
    "predicted = lr.predict(X_test)"
   ]
  },
  {
   "cell_type": "code",
   "execution_count": 39,
   "id": "10a2947a",
   "metadata": {},
   "outputs": [],
   "source": [
    "expected = y_test"
   ]
  },
  {
   "cell_type": "code",
   "execution_count": 40,
   "id": "bf23ea59",
   "metadata": {},
   "outputs": [
    {
     "name": "stdout",
     "output_type": "stream",
     "text": [
      "predicted:  5.35, expected 5.30\n",
      "predicted:  4.98, expected 5.66\n",
      "predicted:  5.43, expected 4.12\n",
      "predicted:  5.30, expected 4.46\n",
      "predicted:  4.67, expected 3.91\n",
      "predicted:  6.18, expected 5.98\n"
     ]
    }
   ],
   "source": [
    "for p, e in zip(predicted[::5], expected[::5]):\n",
    "    print(f'predicted: {p: .2f}, expected {e:.2f}')"
   ]
  },
  {
   "cell_type": "code",
   "execution_count": 59,
   "id": "21e3ffcc",
   "metadata": {},
   "outputs": [
    {
     "name": "stderr",
     "output_type": "stream",
     "text": [
      "C:\\Users\\Brooke\\anaconda3\\lib\\site-packages\\sklearn\\base.py:450: UserWarning: X does not have valid feature names, but LinearRegression was fitted with feature names\n",
      "  warnings.warn(\n"
     ]
    },
    {
     "data": {
      "text/plain": [
       "array([6.77950362])"
      ]
     },
     "execution_count": 59,
     "metadata": {},
     "output_type": "execute_result"
    }
   ],
   "source": [
    "lr.predict([[735, 4.088, 6, 21, 1, 27.333333]])\n",
    "#Predicted Happiness Score coefficient based on the explanatory variable numbers"
   ]
  },
  {
   "cell_type": "markdown",
   "id": "3c39d5e7",
   "metadata": {},
   "source": [
    "# Computing P values for X varaibles on HappinessScores "
   ]
  },
  {
   "cell_type": "code",
   "execution_count": 89,
   "id": "9e03c652",
   "metadata": {},
   "outputs": [
    {
     "name": "stdout",
     "output_type": "stream",
     "text": [
      "0.7479\n",
      "0.0\n"
     ]
    }
   ],
   "source": [
    "from scipy import stats\n",
    "\n",
    "r, p = stats.pearsonr(alcoholanalysis.HDI, alcoholanalysis.HappinessScore)\n",
    "\n",
    "print(round(r,4))\n",
    "print(round(p,4))"
   ]
  },
  {
   "cell_type": "code",
   "execution_count": 88,
   "id": "2759ccd2",
   "metadata": {},
   "outputs": [
    {
     "name": "stdout",
     "output_type": "stream",
     "text": [
      "0.7298\n",
      "0.0\n"
     ]
    }
   ],
   "source": [
    "r, p = stats.pearsonr(alcoholanalysis.GDP_PerCapita, alcoholanalysis.HappinessScore)\n",
    "\n",
    "print(round(r,4))\n",
    "print(round(p,4))"
   ]
  },
  {
   "cell_type": "code",
   "execution_count": 87,
   "id": "cec5181f",
   "metadata": {},
   "outputs": [
    {
     "name": "stdout",
     "output_type": "stream",
     "text": [
      "0.3513\n",
      "0.0002\n"
     ]
    }
   ],
   "source": [
    "r, p = stats.pearsonr(alcoholanalysis.Beer_PerCapita, alcoholanalysis.HappinessScore)\n",
    "\n",
    "print(round(r,4))\n",
    "print(round(p,4))"
   ]
  },
  {
   "cell_type": "code",
   "execution_count": 84,
   "id": "11bb2505",
   "metadata": {},
   "outputs": [
    {
     "name": "stdout",
     "output_type": "stream",
     "text": [
      "0.3717\n",
      "0.0001\n"
     ]
    }
   ],
   "source": [
    "r, p = stats.pearsonr(alcoholanalysis.Wine_PerCapita, alcoholanalysis.HappinessScore)\n",
    "\n",
    "print(round(r,4))\n",
    "print(round(p,4))"
   ]
  },
  {
   "cell_type": "code",
   "execution_count": 86,
   "id": "db7bd934",
   "metadata": {},
   "outputs": [
    {
     "name": "stdout",
     "output_type": "stream",
     "text": [
      "0.1404\n",
      "0.1512\n"
     ]
    }
   ],
   "source": [
    "r, p = stats.pearsonr(alcoholanalysis.Spirit_PerCapita, alcoholanalysis.HappinessScore)\n",
    "\n",
    "print(round(r,4))\n",
    "print(round(p,4))"
   ]
  },
  {
   "cell_type": "code",
   "execution_count": 74,
   "id": "e53370c3",
   "metadata": {},
   "outputs": [
    {
     "name": "stdout",
     "output_type": "stream",
     "text": [
      "0.3656\n",
      "0.0001\n"
     ]
    }
   ],
   "source": [
    "r, p = stats.pearsonr(alcoholanalysis.TotalAlcohol_PerCapita, alcoholanalysis.HappinessScore)\n",
    "\n",
    "print(round(r,4))\n",
    "print(round(p,4))"
   ]
  },
  {
   "cell_type": "code",
   "execution_count": null,
   "id": "914998af",
   "metadata": {},
   "outputs": [],
   "source": []
  }
 ],
 "metadata": {
  "kernelspec": {
   "display_name": "Python 3 (ipykernel)",
   "language": "python",
   "name": "python3"
  },
  "language_info": {
   "codemirror_mode": {
    "name": "ipython",
    "version": 3
   },
   "file_extension": ".py",
   "mimetype": "text/x-python",
   "name": "python",
   "nbconvert_exporter": "python",
   "pygments_lexer": "ipython3",
   "version": "3.9.12"
  }
 },
 "nbformat": 4,
 "nbformat_minor": 5
}
