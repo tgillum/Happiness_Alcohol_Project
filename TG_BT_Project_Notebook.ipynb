{
 "cells": [
  {
   "cell_type": "code",
   "execution_count": null,
   "id": "17d06c4a-cba1-474d-b7c5-7f8c5c3bf075",
   "metadata": {},
   "outputs": [],
   "source": [
    "# This Python 3 environment comes with many helpful analytics libraries installed\n",
    "# It is defined by the kaggle/python Docker image: https://github.com/kaggle/docker-python\n",
    "# For example, here's several helpful packages to load\n",
    "\n",
    "import numpy as np # linear algebra\n",
    "import pandas as pd # data processing, CSV file I/O (e.g. pd.read_csv)\n",
    "\n",
    "# Input data files are available in the read-only \"../input/\" directory\n",
    "# For example, running this (by clicking run or pressing Shift+Enter) will list all files under the input directory\n",
    "\n",
    "import os\n",
    "for dirname, _, filenames in os.walk('/kaggle/input'):\n",
    "    for filename in filenames:\n",
    "        print(os.path.join(dirname, filename))\n",
    "\n",
    "# You can write up to 20GB to the current directory (/kaggle/working/) that gets preserved as output when you create a version using \"Save & Run All\" \n",
    "# You can also write temporary files to /kaggle/temp/, but they won't be saved outside of the current session"
   ]
  },
  {
   "cell_type": "code",
   "execution_count": null,
   "id": "b3a033fc-2005-4396-854a-7b6277601f0c",
   "metadata": {},
   "outputs": [],
   "source": [
    "import numpy as np\n",
    "import matplotlib.pyplot as plt\n",
    "import pandas as pd\n",
    "import seaborn as sns"
   ]
  },
  {
   "cell_type": "markdown",
   "id": "da916875-2dcf-4e0f-938f-ee322de0f966",
   "metadata": {},
   "source": [
    "Please download the HappinessAlcoholConsumptionScore.csv using the link below before proceeding. \n",
    "https://www.kaggle.com/code/nandinibagga/happiness-and-alcohol-consumption-analysis/data"
   ]
  },
  {
   "cell_type": "code",
   "execution_count": null,
   "id": "23f85109-7fa6-4f84-8acf-af440ba11fd3",
   "metadata": {},
   "outputs": [],
   "source": [
    "df = pd.read_csv(\"HappinessAlcoholConsumption.csv\")"
   ]
  },
  {
   "cell_type": "markdown",
   "id": "e9609308-ca8d-4050-915b-08112bde2394",
   "metadata": {},
   "source": [
    "Data Preparations"
   ]
  },
  {
   "cell_type": "code",
   "execution_count": null,
   "id": "71972d6c-9e89-4fcf-8c8c-1a95bde3ca3e",
   "metadata": {},
   "outputs": [],
   "source": [
    "df.head()"
   ]
  },
  {
   "cell_type": "code",
   "execution_count": null,
   "id": "06b210ac-a7b3-4191-9294-786176b78beb",
   "metadata": {},
   "outputs": [],
   "source": [
    "df.shape"
   ]
  },
  {
   "cell_type": "code",
   "execution_count": null,
   "id": "340fdeae-4bc6-4d9d-ba30-bf8425aa33c6",
   "metadata": {},
   "outputs": [],
   "source": [
    "df['Region'].unique()"
   ]
  },
  {
   "cell_type": "code",
   "execution_count": null,
   "id": "3b61e21f-c6ec-4b64-874d-0430579f6677",
   "metadata": {},
   "outputs": [],
   "source": [
    "pd.DataFrame(dict(df['Region'].value_counts()).items(), columns = ['Region','Numbers'])"
   ]
  },
  {
   "cell_type": "code",
   "execution_count": null,
   "id": "bb882312-6b39-4995-8667-b5a57a77a0da",
   "metadata": {},
   "outputs": [],
   "source": [
    "df.columns"
   ]
  },
  {
   "cell_type": "markdown",
   "id": "bd1370eb-9a13-4c9a-8516-01dce01fc1d1",
   "metadata": {},
   "source": [
    "Happiness Score Bar Plot"
   ]
  },
  {
   "cell_type": "code",
   "execution_count": null,
   "id": "feeee456-e72f-4b43-b6e7-6b49b1d15bc2",
   "metadata": {},
   "outputs": [],
   "source": [
    "import seaborn as sns\n",
    "plt.figure(figsize = (15,6))\n",
    "sns.barplot(x ='HappinessScore',y= 'Country',data = df.nlargest(25,'HappinessScore'), palette = 'viridis')\n",
    "plt.title('Happiness Score of top 25 Countries', fontsize = 20)\n",
    "plt.xticks(rotation = 90)\n",
    "plt.show()"
   ]
  },
  {
   "cell_type": "markdown",
   "id": "7dee5955-554f-44b0-bed7-1cc73602ed5c",
   "metadata": {},
   "source": [
    "It is clear that Denmark is the happiest country in this plot. The top 25 countries, following behind Denmark, consists of European and North American countries. The only countries not presented in the plot are countries of the African continent."
   ]
  },
  {
   "cell_type": "markdown",
   "id": "d05c19b5-9011-4c5f-b76d-e74ab5124e5a",
   "metadata": {},
   "source": [
    "Spirit Per Capita Density Plot"
   ]
  },
  {
   "cell_type": "code",
   "execution_count": null,
   "id": "28fb9f5a-17f8-4fab-be0b-96b53c298367",
   "metadata": {},
   "outputs": [],
   "source": [
    "sns.kdeplot(df['Spirit_PerCapita'], color='y', shade=True, Label='Spirit_PerCapita') \n",
    "plt.axvline(df['Spirit_PerCapita'].mean(), color='k', linestyle='dashed', linewidth=1)\n",
    "plt.xlabel('Spirit_PerCapita')\n",
    "plt.ylabel('density')\n",
    "plt.title('Density Plot of the Spirit per Capita')"
   ]
  },
  {
   "cell_type": "markdown",
   "id": "21400664-43b0-42cf-8cd8-2c865348e4e9",
   "metadata": {},
   "source": [
    "The countries show that Spirit Per Capita values greater than the mean in this density plot."
   ]
  },
  {
   "cell_type": "code",
   "execution_count": null,
   "id": "db9c2e37-762f-42f5-8516-179cfaf79186",
   "metadata": {},
   "outputs": [],
   "source": []
  }
 ],
 "metadata": {
  "kernelspec": {
   "display_name": "Python 3 (ipykernel)",
   "language": "python",
   "name": "python3"
  },
  "language_info": {
   "codemirror_mode": {
    "name": "ipython",
    "version": 3
   },
   "file_extension": ".py",
   "mimetype": "text/x-python",
   "name": "python",
   "nbconvert_exporter": "python",
   "pygments_lexer": "ipython3",
   "version": "3.9.13"
  }
 },
 "nbformat": 4,
 "nbformat_minor": 5
}
